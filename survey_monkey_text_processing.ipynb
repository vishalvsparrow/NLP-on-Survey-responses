{
 "cells": [
  {
   "cell_type": "code",
   "execution_count": 84,
   "metadata": {},
   "outputs": [
    {
     "name": "stdout",
     "output_type": "stream",
     "text": [
      "Using matplotlib backend: TkAgg\n"
     ]
    }
   ],
   "source": [
    "% matplotlib"
   ]
  },
  {
   "cell_type": "code",
   "execution_count": 1,
   "metadata": {},
   "outputs": [],
   "source": [
    "import pandas as pd\n",
    "import numpy as np\n",
    "import re\n",
    "import matplotlib.pyplot as plt"
   ]
  },
  {
   "cell_type": "code",
   "execution_count": 2,
   "metadata": {},
   "outputs": [],
   "source": [
    "from nltk.tokenize import word_tokenize\n",
    "from nltk.corpus import stopwords"
   ]
  },
  {
   "cell_type": "code",
   "execution_count": 3,
   "metadata": {},
   "outputs": [],
   "source": [
    "import csv"
   ]
  },
  {
   "cell_type": "code",
   "execution_count": 131,
   "metadata": {},
   "outputs": [],
   "source": [
    "from nltk.stem import WordNetLemmatizer as WNL\n",
    "lemmatizer = WNL()"
   ]
  },
  {
   "cell_type": "code",
   "execution_count": 219,
   "metadata": {},
   "outputs": [],
   "source": [
    "from nltk import bigrams\n",
    "from nltk import FreqDist"
   ]
  },
  {
   "cell_type": "code",
   "execution_count": 4,
   "metadata": {},
   "outputs": [],
   "source": [
    "stop = stopwords.words('english')\n",
    "stop.append('')\n",
    "stop.append('none')"
   ]
  },
  {
   "cell_type": "code",
   "execution_count": 5,
   "metadata": {},
   "outputs": [],
   "source": [
    "data = pd.read_csv('Data_All_190213\\CSV\\data.csv')"
   ]
  },
  {
   "cell_type": "code",
   "execution_count": 6,
   "metadata": {},
   "outputs": [
    {
     "data": {
      "text/html": [
       "<div>\n",
       "<style scoped>\n",
       "    .dataframe tbody tr th:only-of-type {\n",
       "        vertical-align: middle;\n",
       "    }\n",
       "\n",
       "    .dataframe tbody tr th {\n",
       "        vertical-align: top;\n",
       "    }\n",
       "\n",
       "    .dataframe thead th {\n",
       "        text-align: right;\n",
       "    }\n",
       "</style>\n",
       "<table border=\"1\" class=\"dataframe\">\n",
       "  <thead>\n",
       "    <tr style=\"text-align: right;\">\n",
       "      <th></th>\n",
       "      <th>Respondent ID</th>\n",
       "      <th>Collector ID</th>\n",
       "      <th>Email Address</th>\n",
       "      <th>First Name</th>\n",
       "      <th>Last Name</th>\n",
       "      <th>Custom Data 1</th>\n",
       "    </tr>\n",
       "  </thead>\n",
       "  <tbody>\n",
       "    <tr>\n",
       "      <th>count</th>\n",
       "      <td>6.690000e+02</td>\n",
       "      <td>669.0</td>\n",
       "      <td>0.0</td>\n",
       "      <td>0.0</td>\n",
       "      <td>0.0</td>\n",
       "      <td>0.0</td>\n",
       "    </tr>\n",
       "    <tr>\n",
       "      <th>mean</th>\n",
       "      <td>6.935282e+09</td>\n",
       "      <td>170147291.0</td>\n",
       "      <td>NaN</td>\n",
       "      <td>NaN</td>\n",
       "      <td>NaN</td>\n",
       "      <td>NaN</td>\n",
       "    </tr>\n",
       "    <tr>\n",
       "      <th>std</th>\n",
       "      <td>4.761647e+07</td>\n",
       "      <td>0.0</td>\n",
       "      <td>NaN</td>\n",
       "      <td>NaN</td>\n",
       "      <td>NaN</td>\n",
       "      <td>NaN</td>\n",
       "    </tr>\n",
       "    <tr>\n",
       "      <th>min</th>\n",
       "      <td>6.782052e+09</td>\n",
       "      <td>170147291.0</td>\n",
       "      <td>NaN</td>\n",
       "      <td>NaN</td>\n",
       "      <td>NaN</td>\n",
       "      <td>NaN</td>\n",
       "    </tr>\n",
       "    <tr>\n",
       "      <th>25%</th>\n",
       "      <td>6.914592e+09</td>\n",
       "      <td>170147291.0</td>\n",
       "      <td>NaN</td>\n",
       "      <td>NaN</td>\n",
       "      <td>NaN</td>\n",
       "      <td>NaN</td>\n",
       "    </tr>\n",
       "    <tr>\n",
       "      <th>50%</th>\n",
       "      <td>6.955273e+09</td>\n",
       "      <td>170147291.0</td>\n",
       "      <td>NaN</td>\n",
       "      <td>NaN</td>\n",
       "      <td>NaN</td>\n",
       "      <td>NaN</td>\n",
       "    </tr>\n",
       "    <tr>\n",
       "      <th>75%</th>\n",
       "      <td>6.970708e+09</td>\n",
       "      <td>170147291.0</td>\n",
       "      <td>NaN</td>\n",
       "      <td>NaN</td>\n",
       "      <td>NaN</td>\n",
       "      <td>NaN</td>\n",
       "    </tr>\n",
       "    <tr>\n",
       "      <th>max</th>\n",
       "      <td>6.981979e+09</td>\n",
       "      <td>170147291.0</td>\n",
       "      <td>NaN</td>\n",
       "      <td>NaN</td>\n",
       "      <td>NaN</td>\n",
       "      <td>NaN</td>\n",
       "    </tr>\n",
       "  </tbody>\n",
       "</table>\n",
       "</div>"
      ],
      "text/plain": [
       "       Respondent ID  Collector ID  Email Address  First Name  Last Name  \\\n",
       "count   6.690000e+02         669.0            0.0         0.0        0.0   \n",
       "mean    6.935282e+09   170147291.0            NaN         NaN        NaN   \n",
       "std     4.761647e+07           0.0            NaN         NaN        NaN   \n",
       "min     6.782052e+09   170147291.0            NaN         NaN        NaN   \n",
       "25%     6.914592e+09   170147291.0            NaN         NaN        NaN   \n",
       "50%     6.955273e+09   170147291.0            NaN         NaN        NaN   \n",
       "75%     6.970708e+09   170147291.0            NaN         NaN        NaN   \n",
       "max     6.981979e+09   170147291.0            NaN         NaN        NaN   \n",
       "\n",
       "       Custom Data 1  \n",
       "count            0.0  \n",
       "mean             NaN  \n",
       "std              NaN  \n",
       "min              NaN  \n",
       "25%              NaN  \n",
       "50%              NaN  \n",
       "75%              NaN  \n",
       "max              NaN  "
      ]
     },
     "execution_count": 6,
     "metadata": {},
     "output_type": "execute_result"
    }
   ],
   "source": [
    "data.describe()"
   ]
  },
  {
   "cell_type": "code",
   "execution_count": 7,
   "metadata": {},
   "outputs": [
    {
     "data": {
      "text/html": [
       "<div>\n",
       "<style scoped>\n",
       "    .dataframe tbody tr th:only-of-type {\n",
       "        vertical-align: middle;\n",
       "    }\n",
       "\n",
       "    .dataframe tbody tr th {\n",
       "        vertical-align: top;\n",
       "    }\n",
       "\n",
       "    .dataframe thead th {\n",
       "        text-align: right;\n",
       "    }\n",
       "</style>\n",
       "<table border=\"1\" class=\"dataframe\">\n",
       "  <thead>\n",
       "    <tr style=\"text-align: right;\">\n",
       "      <th></th>\n",
       "      <th>Respondent ID</th>\n",
       "      <th>Collector ID</th>\n",
       "      <th>Start Date</th>\n",
       "      <th>End Date</th>\n",
       "      <th>IP Address</th>\n",
       "      <th>Email Address</th>\n",
       "      <th>First Name</th>\n",
       "      <th>Last Name</th>\n",
       "      <th>Custom Data 1</th>\n",
       "      <th>What type of extensions are you interested in? (Check all that apply)</th>\n",
       "      <th>...</th>\n",
       "      <th>What is your name?</th>\n",
       "      <th>Unnamed: 22</th>\n",
       "      <th>Unnamed: 23</th>\n",
       "      <th>Unnamed: 24</th>\n",
       "      <th>Unnamed: 25</th>\n",
       "      <th>Unnamed: 26</th>\n",
       "      <th>Unnamed: 27</th>\n",
       "      <th>Unnamed: 28</th>\n",
       "      <th>Unnamed: 29</th>\n",
       "      <th>Unnamed: 30</th>\n",
       "    </tr>\n",
       "  </thead>\n",
       "  <tbody>\n",
       "    <tr>\n",
       "      <th>0</th>\n",
       "      <td>NaN</td>\n",
       "      <td>NaN</td>\n",
       "      <td>NaN</td>\n",
       "      <td>NaN</td>\n",
       "      <td>NaN</td>\n",
       "      <td>NaN</td>\n",
       "      <td>NaN</td>\n",
       "      <td>NaN</td>\n",
       "      <td>NaN</td>\n",
       "      <td>Hand-tied Wefts</td>\n",
       "      <td>...</td>\n",
       "      <td>Full Name</td>\n",
       "      <td>Company</td>\n",
       "      <td>Address</td>\n",
       "      <td>Address 2</td>\n",
       "      <td>City/Town</td>\n",
       "      <td>State/Province</td>\n",
       "      <td>ZIP/Postal Code</td>\n",
       "      <td>Country</td>\n",
       "      <td>Email Address</td>\n",
       "      <td>Phone Number</td>\n",
       "    </tr>\n",
       "    <tr>\n",
       "      <th>1</th>\n",
       "      <td>6.981979e+09</td>\n",
       "      <td>170147291.0</td>\n",
       "      <td>02/12/2019 09:38:50 PM</td>\n",
       "      <td>02/12/2019 09:43:42 PM</td>\n",
       "      <td>24.117.41.58</td>\n",
       "      <td>NaN</td>\n",
       "      <td>NaN</td>\n",
       "      <td>NaN</td>\n",
       "      <td>NaN</td>\n",
       "      <td>Hand-tied Wefts</td>\n",
       "      <td>...</td>\n",
       "      <td>Michelle Kemper</td>\n",
       "      <td>NaN</td>\n",
       "      <td>NaN</td>\n",
       "      <td>NaN</td>\n",
       "      <td>NaN</td>\n",
       "      <td>NaN</td>\n",
       "      <td>NaN</td>\n",
       "      <td>NaN</td>\n",
       "      <td>NaN</td>\n",
       "      <td>NaN</td>\n",
       "    </tr>\n",
       "    <tr>\n",
       "      <th>2</th>\n",
       "      <td>6.981956e+09</td>\n",
       "      <td>170147291.0</td>\n",
       "      <td>02/12/2019 06:11:59 PM</td>\n",
       "      <td>02/12/2019 06:15:19 PM</td>\n",
       "      <td>76.220.71.140</td>\n",
       "      <td>NaN</td>\n",
       "      <td>NaN</td>\n",
       "      <td>NaN</td>\n",
       "      <td>NaN</td>\n",
       "      <td>Hand-tied Wefts</td>\n",
       "      <td>...</td>\n",
       "      <td>Lindsey Moeller</td>\n",
       "      <td>NaN</td>\n",
       "      <td>NaN</td>\n",
       "      <td>NaN</td>\n",
       "      <td>NaN</td>\n",
       "      <td>NaN</td>\n",
       "      <td>NaN</td>\n",
       "      <td>NaN</td>\n",
       "      <td>NaN</td>\n",
       "      <td>NaN</td>\n",
       "    </tr>\n",
       "    <tr>\n",
       "      <th>3</th>\n",
       "      <td>6.981947e+09</td>\n",
       "      <td>170147291.0</td>\n",
       "      <td>02/12/2019 05:05:32 PM</td>\n",
       "      <td>02/12/2019 05:07:23 PM</td>\n",
       "      <td>99.156.102.255</td>\n",
       "      <td>NaN</td>\n",
       "      <td>NaN</td>\n",
       "      <td>NaN</td>\n",
       "      <td>NaN</td>\n",
       "      <td>Hand-tied Wefts</td>\n",
       "      <td>...</td>\n",
       "      <td>Ashlyn Spencer</td>\n",
       "      <td>NaN</td>\n",
       "      <td>NaN</td>\n",
       "      <td>NaN</td>\n",
       "      <td>NaN</td>\n",
       "      <td>NaN</td>\n",
       "      <td>NaN</td>\n",
       "      <td>NaN</td>\n",
       "      <td>NaN</td>\n",
       "      <td>NaN</td>\n",
       "    </tr>\n",
       "    <tr>\n",
       "      <th>4</th>\n",
       "      <td>6.981820e+09</td>\n",
       "      <td>170147291.0</td>\n",
       "      <td>02/12/2019 08:19:52 AM</td>\n",
       "      <td>02/12/2019 08:22:01 AM</td>\n",
       "      <td>107.77.211.168</td>\n",
       "      <td>NaN</td>\n",
       "      <td>NaN</td>\n",
       "      <td>NaN</td>\n",
       "      <td>NaN</td>\n",
       "      <td>Hand-tied Wefts</td>\n",
       "      <td>...</td>\n",
       "      <td>Amanda silvey</td>\n",
       "      <td>NaN</td>\n",
       "      <td>NaN</td>\n",
       "      <td>NaN</td>\n",
       "      <td>NaN</td>\n",
       "      <td>NaN</td>\n",
       "      <td>NaN</td>\n",
       "      <td>NaN</td>\n",
       "      <td>NaN</td>\n",
       "      <td>NaN</td>\n",
       "    </tr>\n",
       "  </tbody>\n",
       "</table>\n",
       "<p>5 rows × 31 columns</p>\n",
       "</div>"
      ],
      "text/plain": [
       "   Respondent ID  Collector ID              Start Date  \\\n",
       "0            NaN           NaN                     NaN   \n",
       "1   6.981979e+09   170147291.0  02/12/2019 09:38:50 PM   \n",
       "2   6.981956e+09   170147291.0  02/12/2019 06:11:59 PM   \n",
       "3   6.981947e+09   170147291.0  02/12/2019 05:05:32 PM   \n",
       "4   6.981820e+09   170147291.0  02/12/2019 08:19:52 AM   \n",
       "\n",
       "                 End Date      IP Address  Email Address  First Name  \\\n",
       "0                     NaN             NaN            NaN         NaN   \n",
       "1  02/12/2019 09:43:42 PM    24.117.41.58            NaN         NaN   \n",
       "2  02/12/2019 06:15:19 PM   76.220.71.140            NaN         NaN   \n",
       "3  02/12/2019 05:07:23 PM  99.156.102.255            NaN         NaN   \n",
       "4  02/12/2019 08:22:01 AM  107.77.211.168            NaN         NaN   \n",
       "\n",
       "   Last Name  Custom Data 1  \\\n",
       "0        NaN            NaN   \n",
       "1        NaN            NaN   \n",
       "2        NaN            NaN   \n",
       "3        NaN            NaN   \n",
       "4        NaN            NaN   \n",
       "\n",
       "  What type of extensions are you interested in? (Check all that apply)  \\\n",
       "0                                    Hand-tied Wefts                      \n",
       "1                                    Hand-tied Wefts                      \n",
       "2                                    Hand-tied Wefts                      \n",
       "3                                    Hand-tied Wefts                      \n",
       "4                                    Hand-tied Wefts                      \n",
       "\n",
       "       ...      What is your name? Unnamed: 22 Unnamed: 23 Unnamed: 24  \\\n",
       "0      ...               Full Name     Company     Address   Address 2   \n",
       "1      ...        Michelle Kemper          NaN         NaN         NaN   \n",
       "2      ...         Lindsey Moeller         NaN         NaN         NaN   \n",
       "3      ...          Ashlyn Spencer         NaN         NaN         NaN   \n",
       "4      ...           Amanda silvey         NaN         NaN         NaN   \n",
       "\n",
       "  Unnamed: 25     Unnamed: 26      Unnamed: 27 Unnamed: 28    Unnamed: 29  \\\n",
       "0   City/Town  State/Province  ZIP/Postal Code     Country  Email Address   \n",
       "1         NaN             NaN              NaN         NaN            NaN   \n",
       "2         NaN             NaN              NaN         NaN            NaN   \n",
       "3         NaN             NaN              NaN         NaN            NaN   \n",
       "4         NaN             NaN              NaN         NaN            NaN   \n",
       "\n",
       "    Unnamed: 30  \n",
       "0  Phone Number  \n",
       "1           NaN  \n",
       "2           NaN  \n",
       "3           NaN  \n",
       "4           NaN  \n",
       "\n",
       "[5 rows x 31 columns]"
      ]
     },
     "execution_count": 7,
     "metadata": {},
     "output_type": "execute_result"
    }
   ],
   "source": [
    "data.head()"
   ]
  },
  {
   "cell_type": "code",
   "execution_count": 31,
   "metadata": {},
   "outputs": [
    {
     "data": {
      "text/plain": [
       "Index(['Respondent ID', 'Collector ID', 'Start Date', 'End Date', 'IP Address',\n",
       "       'Email Address', 'First Name', 'Last Name', 'Custom Data 1', 'wefts?',\n",
       "       'poly?', 'cylinder?', 'Are you a salon owner?',\n",
       "       'How many years of extensions experience do you have?',\n",
       "       'How urgent is your need for new extensions?',\n",
       "       'What disappointments are you facing in your current situation or with your current supplier that caused you to want to make an account with us?',\n",
       "       'What supplier are you currently struggling with? (This information is kept privately for internal purposes and will not be shared with the public).',\n",
       "       'What's been holding you back from changing suppliers? What aspects of the relationship you have with your current supplier would you keep?',\n",
       "       'Are you currently considering any other suppliers besides Hair & Compounds? If so, who? (Your answers are for internal research purposes only. Your answers will not be made public.)',\n",
       "       'Can you describe your clientele to us? What are the main looks that your clients want to achieve? (Lengths, textures, fine hair, thick hair, curly hair, Barbie-doll hair, hair loss clients, etc.)',\n",
       "       'If you could wave a magic wand and create the perfect relationship with your new supplier, what would that look like?',\n",
       "       'What is your name?'],\n",
       "      dtype='object')"
      ]
     },
     "execution_count": 31,
     "metadata": {},
     "output_type": "execute_result"
    }
   ],
   "source": [
    "data.columns"
   ]
  },
  {
   "cell_type": "code",
   "execution_count": 9,
   "metadata": {},
   "outputs": [],
   "source": [
    "idx = data.columns.get_loc(\"What is your name?\")\n",
    "data.drop(data.columns[idx+1:], axis = 1, inplace = True)"
   ]
  },
  {
   "cell_type": "code",
   "execution_count": 32,
   "metadata": {},
   "outputs": [],
   "source": [
    "# drop columns before \"wefts?\"\n",
    "idx = data.columns.get_loc(\"wefts?\")\n",
    "data.drop(data.columns[:idx], axis = 1, inplace = True)"
   ]
  },
  {
   "cell_type": "code",
   "execution_count": 33,
   "metadata": {},
   "outputs": [
    {
     "data": {
      "text/plain": [
       "Index(['wefts?', 'poly?', 'cylinder?', 'Are you a salon owner?',\n",
       "       'How many years of extensions experience do you have?',\n",
       "       'How urgent is your need for new extensions?',\n",
       "       'What disappointments are you facing in your current situation or with your current supplier that caused you to want to make an account with us?',\n",
       "       'What supplier are you currently struggling with? (This information is kept privately for internal purposes and will not be shared with the public).',\n",
       "       'What's been holding you back from changing suppliers? What aspects of the relationship you have with your current supplier would you keep?',\n",
       "       'Are you currently considering any other suppliers besides Hair & Compounds? If so, who? (Your answers are for internal research purposes only. Your answers will not be made public.)',\n",
       "       'Can you describe your clientele to us? What are the main looks that your clients want to achieve? (Lengths, textures, fine hair, thick hair, curly hair, Barbie-doll hair, hair loss clients, etc.)',\n",
       "       'If you could wave a magic wand and create the perfect relationship with your new supplier, what would that look like?',\n",
       "       'What is your name?'],\n",
       "      dtype='object')"
      ]
     },
     "execution_count": 33,
     "metadata": {},
     "output_type": "execute_result"
    }
   ],
   "source": [
    "# after removing the idx column indices\n",
    "data.columns"
   ]
  },
  {
   "cell_type": "code",
   "execution_count": 11,
   "metadata": {},
   "outputs": [],
   "source": [
    "# restructure some column names\n",
    "\n",
    "data.rename(columns = {data.filter(like = \"What type of\").columns.values[0]: 'wefts?', data.filter(like = \"Unnamed\").columns.values[0]: 'poly?', data.filter(like = \"Unnamed\").columns.values[1]: 'cylinder?'}, inplace= True)"
   ]
  },
  {
   "cell_type": "code",
   "execution_count": 34,
   "metadata": {},
   "outputs": [
    {
     "data": {
      "text/plain": [
       "Index(['wefts?', 'poly?', 'cylinder?', 'Are you a salon owner?',\n",
       "       'How many years of extensions experience do you have?',\n",
       "       'How urgent is your need for new extensions?',\n",
       "       'What disappointments are you facing in your current situation or with your current supplier that caused you to want to make an account with us?',\n",
       "       'What supplier are you currently struggling with? (This information is kept privately for internal purposes and will not be shared with the public).',\n",
       "       'What's been holding you back from changing suppliers? What aspects of the relationship you have with your current supplier would you keep?',\n",
       "       'Are you currently considering any other suppliers besides Hair & Compounds? If so, who? (Your answers are for internal research purposes only. Your answers will not be made public.)',\n",
       "       'Can you describe your clientele to us? What are the main looks that your clients want to achieve? (Lengths, textures, fine hair, thick hair, curly hair, Barbie-doll hair, hair loss clients, etc.)',\n",
       "       'If you could wave a magic wand and create the perfect relationship with your new supplier, what would that look like?',\n",
       "       'What is your name?'],\n",
       "      dtype='object')"
      ]
     },
     "execution_count": 34,
     "metadata": {},
     "output_type": "execute_result"
    }
   ],
   "source": [
    "data.columns"
   ]
  },
  {
   "cell_type": "code",
   "execution_count": 36,
   "metadata": {},
   "outputs": [
    {
     "data": {
      "text/plain": [
       "wefts?                                                                                                                                                                                                                                   Hand-tied Wefts\n",
       "poly?                                                                                                                                                                                                                                   Polymer (Fusion)\n",
       "cylinder?                                                                                                                                                                                                                                            NaN\n",
       "Are you a salon owner?                                                                                                                                                                                                                               Yes\n",
       "How many years of extensions experience do you have?                                                                                                                                                                                                 15 \n",
       "How urgent is your need for new extensions?                                                                                                                                                            I need to decide and place an order SOON. It's...\n",
       "What disappointments are you facing in your current situation or with your current supplier that caused you to want to make an account with us?                                                           Quality has gone down, price and out of stock \n",
       "What supplier are you currently struggling with? (This information is kept privately for internal purposes and will not be shared with the public).                                                                          Bombshell  and hair dreams \n",
       "What's been holding you back from changing suppliers? What aspects of the relationship you have with your current supplier would you keep?                                                                            Fear of quality being good enough \n",
       "Are you currently considering any other suppliers besides Hair & Compounds? If so, who? (Your answers are for internal research purposes only. Your answers will not be made public.)                                                          Bellamy  \n",
       "Can you describe your clientele to us? What are the main looks that your clients want to achieve? (Lengths, textures, fine hair, thick hair, curly hair, Barbie-doll hair, hair loss clients, etc.)                     Length, thickness and hair loss \n",
       "If you could wave a magic wand and create the perfect relationship with your new supplier, what would that look like?                                                                                  Quality, affordability,  availability and grea...\n",
       "What is your name?                                                                                                                                                                                                                      Michelle Kemper \n",
       "Name: 1, dtype: object"
      ]
     },
     "execution_count": 36,
     "metadata": {},
     "output_type": "execute_result"
    }
   ],
   "source": [
    "data.iloc[0,:]"
   ]
  },
  {
   "cell_type": "code",
   "execution_count": 38,
   "metadata": {},
   "outputs": [],
   "source": [
    "# drop this first row which is kind of useless\n",
    "\n",
    "#data.drop(data.index[[0]], inplace = True)"
   ]
  },
  {
   "cell_type": "code",
   "execution_count": 37,
   "metadata": {},
   "outputs": [
    {
     "data": {
      "text/html": [
       "<div>\n",
       "<style scoped>\n",
       "    .dataframe tbody tr th:only-of-type {\n",
       "        vertical-align: middle;\n",
       "    }\n",
       "\n",
       "    .dataframe tbody tr th {\n",
       "        vertical-align: top;\n",
       "    }\n",
       "\n",
       "    .dataframe thead th {\n",
       "        text-align: right;\n",
       "    }\n",
       "</style>\n",
       "<table border=\"1\" class=\"dataframe\">\n",
       "  <thead>\n",
       "    <tr style=\"text-align: right;\">\n",
       "      <th></th>\n",
       "      <th>wefts?</th>\n",
       "      <th>poly?</th>\n",
       "      <th>cylinder?</th>\n",
       "      <th>Are you a salon owner?</th>\n",
       "      <th>How many years of extensions experience do you have?</th>\n",
       "      <th>How urgent is your need for new extensions?</th>\n",
       "      <th>What disappointments are you facing in your current situation or with your current supplier that caused you to want to make an account with us?</th>\n",
       "      <th>What supplier are you currently struggling with? (This information is kept privately for internal purposes and will not be shared with the public).</th>\n",
       "      <th>What's been holding you back from changing suppliers? What aspects of the relationship you have with your current supplier would you keep?</th>\n",
       "      <th>Are you currently considering any other suppliers besides Hair &amp; Compounds? If so, who? (Your answers are for internal research purposes only. Your answers will not be made public.)</th>\n",
       "      <th>Can you describe your clientele to us? What are the main looks that your clients want to achieve? (Lengths, textures, fine hair, thick hair, curly hair, Barbie-doll hair, hair loss clients, etc.)</th>\n",
       "      <th>If you could wave a magic wand and create the perfect relationship with your new supplier, what would that look like?</th>\n",
       "      <th>What is your name?</th>\n",
       "    </tr>\n",
       "  </thead>\n",
       "  <tbody>\n",
       "    <tr>\n",
       "      <th>1</th>\n",
       "      <td>Hand-tied Wefts</td>\n",
       "      <td>Polymer (Fusion)</td>\n",
       "      <td>NaN</td>\n",
       "      <td>Yes</td>\n",
       "      <td>15</td>\n",
       "      <td>I need to decide and place an order SOON. It's...</td>\n",
       "      <td>Quality has gone down, price and out of stock</td>\n",
       "      <td>Bombshell  and hair dreams</td>\n",
       "      <td>Fear of quality being good enough</td>\n",
       "      <td>Bellamy</td>\n",
       "      <td>Length, thickness and hair loss</td>\n",
       "      <td>Quality, affordability,  availability and grea...</td>\n",
       "      <td>Michelle Kemper</td>\n",
       "    </tr>\n",
       "    <tr>\n",
       "      <th>2</th>\n",
       "      <td>Hand-tied Wefts</td>\n",
       "      <td>NaN</td>\n",
       "      <td>NaN</td>\n",
       "      <td>No</td>\n",
       "      <td>3</td>\n",
       "      <td>I need to decide and place an order SOON. It's...</td>\n",
       "      <td>I don’t currently have a hand tied weft suppli...</td>\n",
       "      <td>NaN</td>\n",
       "      <td>N/a</td>\n",
       "      <td>Bohyme</td>\n",
       "      <td>Clients wanting length and/or fullness. Mostly...</td>\n",
       "      <td>Consistency with the quality of hair they are ...</td>\n",
       "      <td>Lindsey Moeller</td>\n",
       "    </tr>\n",
       "    <tr>\n",
       "      <th>3</th>\n",
       "      <td>Hand-tied Wefts</td>\n",
       "      <td>NaN</td>\n",
       "      <td>NaN</td>\n",
       "      <td>No</td>\n",
       "      <td>2</td>\n",
       "      <td>I need to decide and place an order SOON. It's...</td>\n",
       "      <td>colors constantly out of stock</td>\n",
       "      <td>Bombshell</td>\n",
       "      <td>Familiar with bombshell</td>\n",
       "      <td>No</td>\n",
       "      <td>Long tick looks</td>\n",
       "      <td>Colors in stock at good prices</td>\n",
       "      <td>Ashlyn Spencer</td>\n",
       "    </tr>\n",
       "    <tr>\n",
       "      <th>4</th>\n",
       "      <td>Hand-tied Wefts</td>\n",
       "      <td>NaN</td>\n",
       "      <td>NaN</td>\n",
       "      <td>Yes</td>\n",
       "      <td>7</td>\n",
       "      <td>I'm actively looking for a new supplier.</td>\n",
       "      <td>Always out of stock on colors</td>\n",
       "      <td>Bohyme</td>\n",
       "      <td>Nothing</td>\n",
       "      <td>No</td>\n",
       "      <td>Lengths and fullness</td>\n",
       "      <td>Just responsive</td>\n",
       "      <td>Amanda silvey</td>\n",
       "    </tr>\n",
       "    <tr>\n",
       "      <th>5</th>\n",
       "      <td>NaN</td>\n",
       "      <td>NaN</td>\n",
       "      <td>Cylinder (I-tip)</td>\n",
       "      <td>No</td>\n",
       "      <td>2</td>\n",
       "      <td>I'm just passively browsing. No big deal. Just...</td>\n",
       "      <td>Unreliable rep and price</td>\n",
       "      <td>Shrink links</td>\n",
       "      <td>Just knowledge of different lines, there are s...</td>\n",
       "      <td>No</td>\n",
       "      <td>Shoulder to long length, thickness for thinnin...</td>\n",
       "      <td>Reliable, good communication, good quality hai...</td>\n",
       "      <td>Jacklyn Cabatic</td>\n",
       "    </tr>\n",
       "  </tbody>\n",
       "</table>\n",
       "</div>"
      ],
      "text/plain": [
       "            wefts?             poly?         cylinder? Are you a salon owner?  \\\n",
       "1  Hand-tied Wefts  Polymer (Fusion)               NaN                    Yes   \n",
       "2  Hand-tied Wefts               NaN               NaN                     No   \n",
       "3  Hand-tied Wefts               NaN               NaN                     No   \n",
       "4  Hand-tied Wefts               NaN               NaN                    Yes   \n",
       "5              NaN               NaN  Cylinder (I-tip)                     No   \n",
       "\n",
       "  How many years of extensions experience do you have?  \\\n",
       "1                                                15      \n",
       "2                                                  3     \n",
       "3                                                  2     \n",
       "4                                                  7     \n",
       "5                                                  2     \n",
       "\n",
       "         How urgent is your need for new extensions?  \\\n",
       "1  I need to decide and place an order SOON. It's...   \n",
       "2  I need to decide and place an order SOON. It's...   \n",
       "3  I need to decide and place an order SOON. It's...   \n",
       "4           I'm actively looking for a new supplier.   \n",
       "5  I'm just passively browsing. No big deal. Just...   \n",
       "\n",
       "  What disappointments are you facing in your current situation or with your current supplier that caused you to want to make an account with us?  \\\n",
       "1     Quality has gone down, price and out of stock                                                                                                 \n",
       "2  I don’t currently have a hand tied weft suppli...                                                                                                \n",
       "3                    colors constantly out of stock                                                                                                 \n",
       "4                     Always out of stock on colors                                                                                                 \n",
       "5                           Unreliable rep and price                                                                                                \n",
       "\n",
       "  What supplier are you currently struggling with? (This information is kept privately for internal purposes and will not be shared with the public).  \\\n",
       "1                        Bombshell  and hair dreams                                                                                                     \n",
       "2                                                NaN                                                                                                    \n",
       "3                                          Bombshell                                                                                                    \n",
       "4                                             Bohyme                                                                                                    \n",
       "5                                       Shrink links                                                                                                    \n",
       "\n",
       "  What's been holding you back from changing suppliers? What aspects of the relationship you have with your current supplier would you keep?  \\\n",
       "1                 Fear of quality being good enough                                                                                            \n",
       "2                                                N/a                                                                                           \n",
       "3                            Familiar with bombshell                                                                                           \n",
       "4                                           Nothing                                                                                            \n",
       "5  Just knowledge of different lines, there are s...                                                                                           \n",
       "\n",
       "  Are you currently considering any other suppliers besides Hair & Compounds? If so, who? (Your answers are for internal research purposes only. Your answers will not be made public.)  \\\n",
       "1                                          Bellamy                                                                                                                                        \n",
       "2                                             Bohyme                                                                                                                                      \n",
       "3                                                No                                                                                                                                       \n",
       "4                                                 No                                                                                                                                      \n",
       "5                                                 No                                                                                                                                      \n",
       "\n",
       "  Can you describe your clientele to us? What are the main looks that your clients want to achieve? (Lengths, textures, fine hair, thick hair, curly hair, Barbie-doll hair, hair loss clients, etc.)  \\\n",
       "1                   Length, thickness and hair loss                                                                                                                                                     \n",
       "2  Clients wanting length and/or fullness. Mostly...                                                                                                                                                    \n",
       "3                                    Long tick looks                                                                                                                                                    \n",
       "4                              Lengths and fullness                                                                                                                                                     \n",
       "5  Shoulder to long length, thickness for thinnin...                                                                                                                                                    \n",
       "\n",
       "  If you could wave a magic wand and create the perfect relationship with your new supplier, what would that look like?  \\\n",
       "1  Quality, affordability,  availability and grea...                                                                      \n",
       "2  Consistency with the quality of hair they are ...                                                                      \n",
       "3                     Colors in stock at good prices                                                                      \n",
       "4                                   Just responsive                                                                       \n",
       "5  Reliable, good communication, good quality hai...                                                                      \n",
       "\n",
       "  What is your name?  \n",
       "1   Michelle Kemper   \n",
       "2    Lindsey Moeller  \n",
       "3     Ashlyn Spencer  \n",
       "4      Amanda silvey  \n",
       "5    Jacklyn Cabatic  "
      ]
     },
     "execution_count": 37,
     "metadata": {},
     "output_type": "execute_result"
    }
   ],
   "source": [
    "# finally the data\n",
    "data.head()"
   ]
  },
  {
   "cell_type": "code",
   "execution_count": 307,
   "metadata": {},
   "outputs": [],
   "source": [
    "struggles = data.filter(like = \"What disappointment\").dropna()\n",
    "needs = data.filter(like= \"If you could wave\").dropna()\n",
    "supplier = data.filter(like = \"supplier are you\").dropna()\n",
    "clientele = data.filter(like = \"Can you describe your clientele\").dropna()\n",
    "anxiety = data.filter(like= \"What's been holding you back\").dropna()"
   ]
  },
  {
   "cell_type": "code",
   "execution_count": 17,
   "metadata": {},
   "outputs": [],
   "source": [
    "#data.to_csv(\"cleaned_SM.csv\")"
   ]
  },
  {
   "cell_type": "code",
   "execution_count": 309,
   "metadata": {},
   "outputs": [
    {
     "data": {
      "text/plain": [
       "What supplier are you currently struggling with? (This information is kept privately for internal purposes and will not be shared with the public).    547\n",
       "dtype: int64"
      ]
     },
     "execution_count": 309,
     "metadata": {},
     "output_type": "execute_result"
    }
   ],
   "source": [
    "supplier.count()"
   ]
  },
  {
   "cell_type": "code",
   "execution_count": 304,
   "metadata": {},
   "outputs": [
    {
     "data": {
      "text/plain": [
       "Can you describe your clientele to us? What are the main looks that your clients want to achieve? (Lengths, textures, fine hair, thick hair, curly hair, Barbie-doll hair, hair loss clients, etc.)    651\n",
       "dtype: int64"
      ]
     },
     "execution_count": 304,
     "metadata": {},
     "output_type": "execute_result"
    }
   ],
   "source": [
    "clientele.count()"
   ]
  },
  {
   "cell_type": "code",
   "execution_count": 305,
   "metadata": {},
   "outputs": [
    {
     "data": {
      "text/plain": [
       "Series([], dtype: int64)"
      ]
     },
     "execution_count": 305,
     "metadata": {},
     "output_type": "execute_result"
    }
   ],
   "source": [
    "supplier.count()"
   ]
  },
  {
   "cell_type": "code",
   "execution_count": 261,
   "metadata": {},
   "outputs": [],
   "source": [
    "def save_file(freq, fname, type = None):\n",
    "    with open (fname, 'w', encoding = 'utf-8', newline = '') as out:\n",
    "        csv_out = csv.writer(out)\n",
    "       #csv_out.writerow(['word', 'frequency'])\n",
    "        if type == \"list\":\n",
    "            \n",
    "            for i in range(0, len(freq)):\n",
    "                csv_out.writerow([freq[i][0], freq[i][1]])\n",
    "                \n",
    "        else:\n",
    "            \n",
    "            for k, v in freq.items():\n",
    "                csv_out.writerow([k, v])"
   ]
  },
  {
   "cell_type": "markdown",
   "metadata": {},
   "source": [
    "### tokenize struggles"
   ]
  },
  {
   "cell_type": "code",
   "execution_count": 146,
   "metadata": {},
   "outputs": [],
   "source": [
    "def m_tokenize(row):\n",
    "    word_list = (word_tokenize(row.values.tolist()[0]))\n",
    "    stop_removed_list = [re.sub('[^a-zA-Z0-9 -]', '', x) for x in word_list if (x.lower()) not in stop]\n",
    "    stop_removed_list = [x.lower() for x in stop_removed_list if not x == '']\n",
    "    \n",
    "    return stop_removed_list"
   ]
  },
  {
   "cell_type": "code",
   "execution_count": 124,
   "metadata": {},
   "outputs": [],
   "source": [
    "def make_tokens(df):\n",
    "    tokens = df.apply(m_tokenize, axis= 1)\n",
    "    return tokens\n",
    "\n",
    "def token_frequency(tokens):\n",
    "    all_words = list()\n",
    "    frequency = dict()\n",
    "    \n",
    "    def all_to_list(row):\n",
    "        for r in row:\n",
    "            all_words.append(r)\n",
    "            \n",
    "    tokens.apply(all_to_list)\n",
    "    \n",
    "    for w in all_words:\n",
    "        #w = w.lower()\n",
    "        #w = re.sub('[\\`\\'\\`\\,\\.\\'\\!\\s\\’\\”\\“\\(\\)\\*\\&]', '', w)\n",
    "        \n",
    "        if not w.strip():\n",
    "            next\n",
    "        elif w not in frequency:\n",
    "            frequency[w] = 1\n",
    "        elif w in frequency:\n",
    "            frequency[w] += 1\n",
    "    \n",
    "    return frequency"
   ]
  },
  {
   "cell_type": "markdown",
   "metadata": {},
   "source": [
    "### Lemmatization of tokens"
   ]
  },
  {
   "cell_type": "code",
   "execution_count": 184,
   "metadata": {},
   "outputs": [],
   "source": [
    "def lemmatize_tokens(row):\n",
    "    m_row = list()\n",
    "    \n",
    "    for r in row:\n",
    "        m_row.append(lemmatizer.lemmatize(r))\n",
    "    \n",
    "    return m_row"
   ]
  },
  {
   "cell_type": "markdown",
   "metadata": {},
   "source": [
    "### Bi-grams"
   ]
  },
  {
   "cell_type": "code",
   "execution_count": 283,
   "metadata": {},
   "outputs": [],
   "source": [
    "def get_bigrams(row):\n",
    "    m_row = list()\n",
    "    \n",
    "    if len(row) > 0:\n",
    "    \n",
    "        try:\n",
    "            return(list(bigrams(row)))\n",
    "        except:\n",
    "            return None\n",
    "    "
   ]
  },
  {
   "cell_type": "code",
   "execution_count": 22,
   "metadata": {},
   "outputs": [],
   "source": [
    "## Another way to do it\n",
    "#for i in map(list, struggles.values):\n",
    "#    print(i)"
   ]
  },
  {
   "cell_type": "code",
   "execution_count": 23,
   "metadata": {},
   "outputs": [],
   "source": [
    "#all_words = list()\n",
    "#frequency = dict()\n",
    "#def all_to_list(row):\n",
    "#    for r in row:\n",
    "#        all_words.append(r)"
   ]
  },
  {
   "cell_type": "code",
   "execution_count": 43,
   "metadata": {},
   "outputs": [],
   "source": [
    "#struggles_tokens.apply(all_to_list)"
   ]
  },
  {
   "cell_type": "code",
   "execution_count": 44,
   "metadata": {},
   "outputs": [],
   "source": [
    "#for w in all_words:\n",
    "#    w = w.lower()\n",
    "#    w = re.sub('[\\`\\'\\`\\,\\.\\'\\!\\s]', '', w)\n",
    "#    if w not in frequency:\n",
    "#        frequency[w] = 1\n",
    "#    elif w in frequency:\n",
    "#        frequency[w] += 1\n",
    "        "
   ]
  },
  {
   "cell_type": "markdown",
   "metadata": {},
   "source": [
    "### call functions"
   ]
  },
  {
   "cell_type": "code",
   "execution_count": 310,
   "metadata": {},
   "outputs": [],
   "source": [
    "## make tokens\n",
    "tokens_struggles = make_tokens(struggles)\n",
    "tokens_anxiety = make_tokens(anxiety)\n",
    "tokens_needs = make_tokens(needs)\n",
    "tokens_clientele = make_tokens(clientele)\n",
    "tokens_supplier = make_tokens(supplier)"
   ]
  },
  {
   "cell_type": "code",
   "execution_count": 311,
   "metadata": {},
   "outputs": [],
   "source": [
    "## lemmatize tokens (Lexicon normalization --> convert words/tokens to their root form which is linguistically correct) \n",
    "tokens_struggles_lemma = tokens_struggles.apply(lemmatize_tokens)\n",
    "tokens_anxiety_lemma = tokens_anxiety.apply(lemmatize_tokens)\n",
    "tokens_needs_lemma = tokens_needs.apply(lemmatize_tokens)\n",
    "tokens_clientele_lemma = tokens_clientele.apply(lemmatize_tokens)\n",
    "tokens_supplier_lemma = tokens_supplier.apply(lemmatize_tokens)"
   ]
  },
  {
   "cell_type": "code",
   "execution_count": 312,
   "metadata": {},
   "outputs": [],
   "source": [
    "bigrams_struggles_lemma = tokens_struggles_lemma.apply(get_bigrams)\n",
    "bigrams_anxiety_lemma = tokens_anxiety_lemma.apply(get_bigrams)\n",
    "bigrams_needs_lemma = tokens_needs_lemma.apply(get_bigrams)\n",
    "bigrams_clientele_lemma = tokens_clientele_lemma.apply(get_bigrams)\n",
    "bigrams_supplier_lemma = tokens_supplier_lemma.apply(get_bigrams)"
   ]
  },
  {
   "cell_type": "code",
   "execution_count": 313,
   "metadata": {},
   "outputs": [],
   "source": [
    "## get the frequency of each token\n",
    "frequency_struggles = token_frequency(tokens_struggles_lemma)\n",
    "freq_anx = token_frequency(tokens_anxiety_lemma)\n",
    "freq_needs = token_frequency(tokens_needs_lemma)\n",
    "freq_client = token_frequency(tokens_clientele_lemma)\n",
    "freq_supplier = token_frequency(tokens_supplier_lemma)"
   ]
  },
  {
   "cell_type": "code",
   "execution_count": 264,
   "metadata": {},
   "outputs": [],
   "source": [
    "#bigrams_struggles_lemma.iloc[0]"
   ]
  },
  {
   "cell_type": "code",
   "execution_count": 315,
   "metadata": {},
   "outputs": [],
   "source": [
    "save_file(frequency_struggles, \"freq_struggles.csv\")\n",
    "save_file(freq_anx, \"freq_anxieties.csv\")\n",
    "save_file(freq_needs, \"freq_needs.csv\")\n",
    "save_file(freq_client, \"freq_clientele.csv\")\n",
    "save_file(freq_supplier, \"freq_supplier.csv\")"
   ]
  },
  {
   "cell_type": "markdown",
   "metadata": {},
   "source": [
    "### get frequency of bi-grams"
   ]
  },
  {
   "cell_type": "code",
   "execution_count": 297,
   "metadata": {},
   "outputs": [],
   "source": [
    "def get_bigram_freq(bigrams_force_lemma):\n",
    "    all_words = list()\n",
    "    def all_to_list(row):\n",
    "        try:\n",
    "            for r in row:\n",
    "                all_words.append(r)\n",
    "        except:\n",
    "            return None\n",
    "\n",
    "    bigrams_force_lemma.apply(all_to_list)\n",
    "        \n",
    "    bigram_frequency_force = (FreqDist(all_words).items())\n",
    "    return bigram_frequency_force"
   ]
  },
  {
   "cell_type": "code",
   "execution_count": 316,
   "metadata": {},
   "outputs": [],
   "source": [
    "bigram_frequency_struggles = get_bigram_freq(bigrams_struggles_lemma)\n",
    "bigram_freq_anx = get_bigram_freq(bigrams_anxiety_lemma)\n",
    "bigram_freq_needs = get_bigram_freq(bigrams_needs_lemma)\n",
    "bigram_freq_client = get_bigram_freq(bigrams_clientele_lemma)\n",
    "bigram_freq_supplier = get_bigram_freq(bigrams_supplier_lemma)"
   ]
  },
  {
   "cell_type": "code",
   "execution_count": 317,
   "metadata": {},
   "outputs": [],
   "source": [
    "save_file(list(bigram_frequency_struggles), \"bigram_freq_struggles.csv\", type = \"list\")\n",
    "save_file(list(bigram_freq_anx), \"bigram_freq_anxities.csv\", type = \"list\")\n",
    "save_file(list(bigram_freq_needs), \"bigram_freq_needs.csv\", type = \"list\")\n",
    "save_file(list(bigram_freq_client), \"bigram_freq_client.csv\", type = \"list\")\n",
    "save_file(list(bigram_freq_supplier), \"bigram_freq_supplier.csv\", type = \"list\")"
   ]
  }
 ],
 "metadata": {
  "kernelspec": {
   "display_name": "Python 3",
   "language": "python",
   "name": "python3"
  },
  "language_info": {
   "codemirror_mode": {
    "name": "ipython",
    "version": 3
   },
   "file_extension": ".py",
   "mimetype": "text/x-python",
   "name": "python",
   "nbconvert_exporter": "python",
   "pygments_lexer": "ipython3",
   "version": "3.7.0"
  }
 },
 "nbformat": 4,
 "nbformat_minor": 2
}
